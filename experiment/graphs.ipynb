{
 "cells": [
  {
   "cell_type": "code",
   "execution_count": 1,
   "metadata": {},
   "outputs": [],
   "source": [
    "import numpy as np\n",
    "import pandas as pd\n",
    "from star_network.StarNode import StarNode\n",
    "from ring_network.RingNode import RingNode\n",
    "from controller_worker.Controller import Controller\n",
    "from sharding_methods.EvenSplit import even_split\n",
    "from sharding_methods.Predicate import predicate_split\n",
    "from sharding_methods.OurMethod import our_split\n",
    "from util.predicates import predicate_interval\n",
    "import matplotlib.pyplot as plt\n",
    "import time\n",
    "import random"
   ]
  },
  {
   "cell_type": "code",
   "execution_count": 2,
   "metadata": {},
   "outputs": [],
   "source": [
    "# Constants for simulation\n",
    "NUM_QUERIES = 100\n",
    "COLUMN = 'rating'\n",
    "PRED_CHOICES = ['LT', 'LE', 'GT', 'GE']\n",
    "VALUE_RANGE = [0, 10]"
   ]
  },
  {
   "cell_type": "code",
   "execution_count": 3,
   "metadata": {},
   "outputs": [],
   "source": [
    "# Load data\n",
    "df: pd.DataFrame = pd.read_csv('./data/stats_df.csv')\n",
    "stats: np.ndarray = np.load('./data/stats.npy')\n",
    "\n",
    "NUM_SHARDS = stats.shape[1]\n",
    "NUM_ROWS = len(df)"
   ]
  },
  {
   "cell_type": "code",
   "execution_count": 4,
   "metadata": {},
   "outputs": [],
   "source": [
    "# Setup different splt types\n",
    "even_split_dfs = even_split(df, NUM_SHARDS)\n",
    "pred_intervals = predicate_interval(VALUE_RANGE, NUM_SHARDS)\n",
    "pred_split_dfs = predicate_split(df, COLUMN,  pred_intervals)\n",
    "# our_split_dfs = our_split(df, stats)"
   ]
  },
  {
   "cell_type": "code",
   "execution_count": 5,
   "metadata": {},
   "outputs": [],
   "source": [
    "# Setup Controller Worker\n",
    "cw_even = Controller(even_split_dfs)\n",
    "cw_pred = Controller(pred_split_dfs, predicates=pred_intervals)\n",
    "# cw_our = Controller(our_split_dfs)"
   ]
  },
  {
   "cell_type": "code",
   "execution_count": 6,
   "metadata": {},
   "outputs": [],
   "source": [
    "# Setup Ring-Even Network\n",
    "ring_even = []\n",
    "for i in range(NUM_SHARDS):\n",
    "    new_node = RingNode(i, NUM_SHARDS, even_split_dfs[i])\n",
    "    ring_even.append(new_node)\n",
    "\n",
    "for i in range(0, len(ring_even) - 1):\n",
    "    ring_even[i].set_link(ring_even[i+1])\n",
    "ring_even[-1].set_link(ring_even[0])"
   ]
  },
  {
   "cell_type": "code",
   "execution_count": 7,
   "metadata": {},
   "outputs": [],
   "source": [
    "#Setup Ring-Pred Network\n",
    "ring_pred = []\n",
    "for i in range(NUM_SHARDS):\n",
    "    new_node = RingNode(i, NUM_SHARDS, pred_split_dfs[i], interval=pred_intervals[i])\n",
    "    ring_pred.append(new_node)\n",
    "\n",
    "for i in range(0, len(ring_pred) - 1):\n",
    "    ring_pred[i].set_link(ring_pred[i+1])\n",
    "ring_pred[-1].set_link(ring_pred[0])"
   ]
  },
  {
   "cell_type": "code",
   "execution_count": 8,
   "metadata": {},
   "outputs": [],
   "source": [
    "# Setup ring-our\n",
    "# ring_our = []\n",
    "# for i in range(NUM_SHARDS):\n",
    "#     new_node = RingNode(i, NUM_SHARDS, our_split_dfs[i])\n",
    "#     ring_our.append(new_node)\n",
    "\n",
    "# for i in range(0, len(ring_our) - 1):\n",
    "#     ring_our[i].set_link(ring_our[i+1])\n",
    "# ring_our[-1].set_link(ring_our[0])"
   ]
  },
  {
   "cell_type": "code",
   "execution_count": 9,
   "metadata": {},
   "outputs": [],
   "source": [
    "# Setup star-even\n",
    "\n",
    "star_even = []\n",
    "for i in range(NUM_SHARDS):\n",
    "    new_node = StarNode(i, even_split_dfs[i])\n",
    "    star_even.append(new_node)\n",
    "\n",
    "for i in range(len(star_even)):\n",
    "    others = star_even[:i] + star_even[i+1:]\n",
    "    star_even[i].set_connections(others)"
   ]
  },
  {
   "cell_type": "code",
   "execution_count": 10,
   "metadata": {},
   "outputs": [],
   "source": [
    "# Setup Star-pred\n",
    "star_pred = []\n",
    "for i in range(NUM_SHARDS):\n",
    "    new_node = StarNode(i, pred_split_dfs[i], interval=pred_intervals[i])\n",
    "    star_pred.append(new_node)\n",
    "\n",
    "for i in range(len(star_pred )):\n",
    "    others = star_pred[:i] + star_pred[i+1:]\n",
    "    star_pred[i].set_connections(others)"
   ]
  },
  {
   "cell_type": "code",
   "execution_count": 11,
   "metadata": {},
   "outputs": [],
   "source": [
    "# Setup Star-ours\n",
    "# star_our = []\n",
    "# for i in range(NUM_SHARDS):\n",
    "#     new_node = StarNode(i, our_split_dfs[i])\n",
    "#     star_our.append(new_node)\n",
    "\n",
    "# for i in range(len(star_our)):\n",
    "#     others = star_our[:i] + star_our[i+1:]\n",
    "#     star_our[i].set_connections(others)"
   ]
  },
  {
   "cell_type": "code",
   "execution_count": 12,
   "metadata": {},
   "outputs": [],
   "source": [
    "# X-axis for first set is just query fluctuation\n",
    "x = np.arange(NUM_QUERIES)"
   ]
  },
  {
   "cell_type": "code",
   "execution_count": 13,
   "metadata": {},
   "outputs": [],
   "source": [
    "y_cw_even = np.ndarray((NUM_QUERIES))\n",
    "y_cw_pred = np.ndarray((NUM_QUERIES))\n",
    "y_cw_our = np.ndarray((NUM_QUERIES))\n",
    "\n",
    "y_ring_even = np.ndarray((NUM_QUERIES))\n",
    "y_ring_pred = np.ndarray((NUM_QUERIES))\n",
    "y_ring_our = np.ndarray((NUM_QUERIES))\n",
    "\n",
    "y_star_even = np.ndarray((NUM_QUERIES))\n",
    "y_star_pred = np.ndarray((NUM_QUERIES))\n",
    "y_star_our = np.ndarray((NUM_QUERIES))"
   ]
  },
  {
   "cell_type": "code",
   "execution_count": 14,
   "metadata": {},
   "outputs": [
    {
     "data": {
      "text/plain": [
       "'Process ended'"
      ]
     },
     "execution_count": 14,
     "metadata": {},
     "output_type": "execute_result"
    }
   ],
   "source": [
    "# Start threads for cw\n",
    "cw_even.start_threads()\n",
    "cw_pred.start_threads()\n",
    "# cw_our.start_threads()\n",
    "\n",
    "# Run queries and time them\n",
    "for i in range(NUM_QUERIES):\n",
    "\n",
    "    pred = random.choice(PRED_CHOICES)\n",
    "    val = random.uniform(VALUE_RANGE[0], VALUE_RANGE[1])\n",
    "\n",
    "    #Controller worker\n",
    "    cw_query = (COLUMN, pred, val)\n",
    "    #cw-even \n",
    "    start = time.time()\n",
    "    cw_even.execute_query(cw_query)\n",
    "    end = time.time()\n",
    "    y_cw_even[i] = end-start\n",
    "\n",
    "    #cw-pred\n",
    "    start = time.time()\n",
    "    cw_pred.execute_query(cw_query)\n",
    "    end = time.time()\n",
    "    y_cw_pred[i] = end-start\n",
    "\n",
    "    #cw-our\n",
    "    start = time.time()\n",
    "    # cw_our.execute_query(cw_query)\n",
    "    end = time.time()\n",
    "    y_cw_our[i] = end-start\n",
    "\n",
    "    #Ring Network sim\n",
    "    #ring-even\n",
    "    start = time.time()\n",
    "    ring_even[0].query(COLUMN, pred, val)\n",
    "    end = time.time()\n",
    "    y_ring_even[i] = end-start\n",
    "    #ring-pred\n",
    "    start = time.time()\n",
    "    ring_pred[0].query(COLUMN, pred, val)\n",
    "    end = time.time()\n",
    "    y_ring_pred[i] = end-start\n",
    "    #ring-our\n",
    "    start = time.time()\n",
    "    # ring_our[0].query(COLUMN, pred, val)\n",
    "    end = time.time()\n",
    "    y_ring_our[i] = end-start\n",
    "\n",
    "    #Star Network\n",
    "    chosen_node = random.randint(0, NUM_SHARDS - 1)\n",
    "    #star-even \n",
    "    start = time.time()\n",
    "    star_even[chosen_node].query(COLUMN, pred, val)\n",
    "    end = time.time()\n",
    "    y_star_even[i] = end-start\n",
    "\n",
    "    #star-pred\n",
    "    start = time.time()\n",
    "    star_pred[chosen_node].query(COLUMN, pred, val)\n",
    "    end = time.time()\n",
    "    y_star_pred = end-start\n",
    "\n",
    "    #star-our\n",
    "    start = time.time()\n",
    "    # star_our[chosen_node].query(COLUMN, pred, val)\n",
    "    end = time.time()\n",
    "    y_star_our = end-start\n",
    "\n",
    "cw_even.execute_query('done')\n",
    "cw_pred.execute_query('done')\n",
    "# cw_our.execute_query('done')"
   ]
  },
  {
   "cell_type": "code",
   "execution_count": 15,
   "metadata": {},
   "outputs": [
    {
     "data": {
      "text/plain": [
       "[<matplotlib.lines.Line2D at 0x2163d62fac0>]"
      ]
     },
     "execution_count": 15,
     "metadata": {},
     "output_type": "execute_result"
    },
    {
     "data": {
      "image/png": "[encoded data removed]",
      "text/plain": [
       "<Figure size 640x480 with 1 Axes>"
      ]
     },
     "metadata": {},
     "output_type": "display_data"
    }
   ],
   "source": [
    "plt.plot(x, y_cw_even)\n",
    "plt.plot(x, y_cw_pred)\n",
    "plt.plot(x, y_cw_our)"
   ]
  }
 ],
 "metadata": {
  "kernelspec": {
   "display_name": "env",
   "language": "python",
   "name": "python3"
  },
  "language_info": {
   "codemirror_mode": {
    "name": "ipython",
    "version": 3
   },
   "file_extension": ".py",
   "mimetype": "text/x-python",
   "name": "python",
   "nbconvert_exporter": "python",
   "pygments_lexer": "ipython3",
   "version": "3.9.13"
  },
  "orig_nbformat": 4
 },
 "nbformat": 4,
 "nbformat_minor": 2
}
